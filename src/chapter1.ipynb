{
 "cells": [
  {
   "cell_type": "code",
   "execution_count": 3,
   "id": "initial_id",
   "metadata": {
    "collapsed": true,
    "ExecuteTime": {
     "end_time": "2023-11-05T00:42:34.355269Z",
     "start_time": "2023-11-05T00:42:29.226425Z"
    }
   },
   "outputs": [
    {
     "name": "stdout",
     "output_type": "stream",
     "text": [
      "<class 'pandas.core.frame.DataFrame'>\n",
      "RangeIndex: 336776 entries, 0 to 336775\n",
      "Data columns (total 19 columns):\n",
      " #   Column          Non-Null Count   Dtype  \n",
      "---  ------          --------------   -----  \n",
      " 0   year            336776 non-null  int64  \n",
      " 1   month           336776 non-null  int64  \n",
      " 2   day             336776 non-null  int64  \n",
      " 3   dep_time        328521 non-null  float64\n",
      " 4   sched_dep_time  336776 non-null  int64  \n",
      " 5   dep_delay       328521 non-null  float64\n",
      " 6   arr_time        328063 non-null  float64\n",
      " 7   sched_arr_time  336776 non-null  int64  \n",
      " 8   arr_delay       327346 non-null  float64\n",
      " 9   carrier         336776 non-null  object \n",
      " 10  flight          336776 non-null  int64  \n",
      " 11  tailnum         334264 non-null  object \n",
      " 12  origin          336776 non-null  object \n",
      " 13  dest            336776 non-null  object \n",
      " 14  air_time        327346 non-null  float64\n",
      " 15  distance        336776 non-null  int64  \n",
      " 16  hour            336776 non-null  int64  \n",
      " 17  minute          336776 non-null  int64  \n",
      " 18  time_hour       336776 non-null  object \n",
      "dtypes: float64(5), int64(9), object(5)\n",
      "memory usage: 48.8+ MB\n",
      "<class 'pandas.core.frame.DataFrame'>\n",
      "RangeIndex: 336776 entries, 0 to 336775\n",
      "Data columns (total 19 columns):\n",
      " #   Column          Non-Null Count   Dtype  \n",
      "---  ------          --------------   -----  \n",
      " 0   year            336776 non-null  int64  \n",
      " 1   month           336776 non-null  int64  \n",
      " 2   day             336776 non-null  int64  \n",
      " 3   dep_time        328521 non-null  float64\n",
      " 4   sched_dep_time  336776 non-null  int64  \n",
      " 5   dep_delay       328521 non-null  float64\n",
      " 6   arr_time        328063 non-null  float64\n",
      " 7   sched_arr_time  336776 non-null  int64  \n",
      " 8   arr_delay       327346 non-null  float64\n",
      " 9   carrier         336776 non-null  object \n",
      " 10  flight          336776 non-null  int64  \n",
      " 11  tailnum         334264 non-null  object \n",
      " 12  origin          336776 non-null  object \n",
      " 13  dest            336776 non-null  object \n",
      " 14  air_time        327346 non-null  float64\n",
      " 15  distance        336776 non-null  int64  \n",
      " 16  hour            336776 non-null  int64  \n",
      " 17  minute          336776 non-null  int64  \n",
      " 18  time_hour       336776 non-null  object \n",
      "dtypes: float64(5), int64(9), object(5)\n",
      "memory usage: 48.8+ MB\n",
      "<class 'pandas.core.frame.DataFrame'>\n",
      "RangeIndex: 1458 entries, 0 to 1457\n",
      "Data columns (total 8 columns):\n",
      " #   Column  Non-Null Count  Dtype  \n",
      "---  ------  --------------  -----  \n",
      " 0   faa     1458 non-null   object \n",
      " 1   name    1458 non-null   object \n",
      " 2   lat     1458 non-null   float64\n",
      " 3   lon     1458 non-null   float64\n",
      " 4   alt     1458 non-null   int64  \n",
      " 5   tz      1458 non-null   int64  \n",
      " 6   dst     1458 non-null   object \n",
      " 7   tzone   1455 non-null   object \n",
      "dtypes: float64(2), int64(2), object(4)\n",
      "memory usage: 91.2+ KB\n"
     ]
    },
    {
     "data": {
      "text/plain": "(   year  month  day  dep_time  sched_dep_time  dep_delay  arr_time  \\\n 0  2013      1    1     517.0             515        2.0     830.0   \n 1  2013      1    1     533.0             529        4.0     850.0   \n 2  2013      1    1     542.0             540        2.0     923.0   \n 3  2013      1    1     544.0             545       -1.0    1004.0   \n 4  2013      1    1     554.0             600       -6.0     812.0   \n \n    sched_arr_time  arr_delay carrier  flight tailnum origin dest  air_time  \\\n 0             819       11.0      UA    1545  N14228    EWR  IAH     227.0   \n 1             830       20.0      UA    1714  N24211    LGA  IAH     227.0   \n 2             850       33.0      AA    1141  N619AA    JFK  MIA     160.0   \n 3            1022      -18.0      B6     725  N804JB    JFK  BQN     183.0   \n 4             837      -25.0      DL     461  N668DN    LGA  ATL     116.0   \n \n    distance  hour  minute            time_hour  \n 0      1400     5      15  2013-01-01 05:00:00  \n 1      1416     5      29  2013-01-01 05:00:00  \n 2      1089     5      40  2013-01-01 05:00:00  \n 3      1576     5      45  2013-01-01 05:00:00  \n 4       762     6       0  2013-01-01 06:00:00  ,\n   carrier                    name\n 0      9E       Endeavor Air Inc.\n 1      AA  American Airlines Inc.\n 2      AS    Alaska Airlines Inc.\n 3      B6         JetBlue Airways\n 4      DL    Delta Air Lines Inc.,\n 0         Endeavor Air Inc.\n 1    American Airlines Inc.\n 2      Alaska Airlines Inc.\n 3           JetBlue Airways\n 4      Delta Air Lines Inc.\n Name: name, dtype: object,\n    faa                           name        lat        lon   alt  tz dst  \\\n 0  04G              Lansdowne Airport  41.130472 -80.619583  1044  -5   A   \n 1  06A  Moton Field Municipal Airport  32.460572 -85.680028   264  -6   A   \n 2  06C            Schaumburg Regional  41.989341 -88.101243   801  -6   A   \n 3  06N                Randall Airport  41.431912 -74.391561   523  -5   A   \n 4  09J          Jekyll Island Airport  31.074472 -81.427778    11  -5   A   \n \n               tzone  \n 0  America/New_York  \n 1   America/Chicago  \n 2   America/Chicago  \n 3  America/New_York  \n 4  America/New_York  )"
     },
     "execution_count": 3,
     "metadata": {},
     "output_type": "execute_result"
    }
   ],
   "source": [
    "# Importing required packages for Python equivalent operations\n",
    "import pandas as pd\n",
    "\n",
    "# Loading the datasets from the uploaded CSV files\n",
    "airlines = pd.read_csv('data/airlines.csv')\n",
    "airports = pd.read_csv('data/airports.csv')\n",
    "flights = pd.read_csv('data/flights.csv')\n",
    "\n",
    "# Displaying the 'flights' DataFrame as a table, similar to R's 'View()' function\n",
    "# However, in a Jupyter notebook environment, we just display the head of the DataFrame for brevity\n",
    "flights_head = flights.head()\n",
    "\n",
    "# Getting a glimpse of the 'flights' DataFrame, similar to R's 'glimpse()' function\n",
    "flights_info = flights.info()\n",
    "\n",
    "flights_description = flights.describe(include='all').transpose()\n",
    "flights_info = flights.info()  # This will print to the console\n",
    "\n",
    "flights_description\n",
    "\n",
    "airlines_table = airlines.head()  # Display the head of the dataframe for brevity in this notebook.\n",
    "airlines_table\n",
    "\n",
    "\n",
    "# Selecting the 'name' column from the 'airlines' DataFrame\n",
    "airlines_names = airlines['name']\n",
    "\n",
    "# Getting a glimpse of the 'airports' DataFrame, similar to R's 'glimpse()' function\n",
    "airports_info = airports.info()\n",
    "\n",
    "# Displaying the 'airports' DataFrame as a table\n",
    "airports_head = airports.head()\n",
    "\n",
    "flights_head, airlines_head, airlines_names.head(), airports_head"
   ]
  },
  {
   "cell_type": "code",
   "execution_count": 4,
   "outputs": [
    {
     "name": "stdout",
     "output_type": "stream",
     "text": [
      "<class 'pandas.core.frame.DataFrame'>\n",
      "RangeIndex: 1458 entries, 0 to 1457\n",
      "Data columns (total 8 columns):\n",
      " #   Column  Non-Null Count  Dtype  \n",
      "---  ------  --------------  -----  \n",
      " 0   faa     1458 non-null   object \n",
      " 1   name    1458 non-null   object \n",
      " 2   lat     1458 non-null   float64\n",
      " 3   lon     1458 non-null   float64\n",
      " 4   alt     1458 non-null   int64  \n",
      " 5   tz      1458 non-null   int64  \n",
      " 6   dst     1458 non-null   object \n",
      " 7   tzone   1455 non-null   object \n",
      "dtypes: float64(2), int64(2), object(4)\n",
      "memory usage: 91.2+ KB\n"
     ]
    },
    {
     "data": {
      "text/plain": "        count unique                top  freq         mean          std  \\\nfaa      1458   1458                04G     1          NaN          NaN   \nname     1458   1440  Municipal Airport     5          NaN          NaN   \nlat    1458.0    NaN                NaN   NaN    41.648008    10.449509   \nlon    1458.0    NaN                NaN   NaN  -103.392289    29.843118   \nalt    1458.0    NaN                NaN   NaN  1001.415638  1523.626105   \ntz     1458.0    NaN                NaN   NaN    -6.518519     1.623016   \ndst      1458      3                  A  1388          NaN          NaN   \ntzone    1455      9   America/New_York   519          NaN          NaN   \n\n             min         25%        50%        75%        max  \nfaa          NaN         NaN        NaN        NaN        NaN  \nname         NaN         NaN        NaN        NaN        NaN  \nlat    19.721375   34.257539  40.087722   45.06715  72.270833  \nlon     -176.646 -119.185652 -94.661854 -82.516717  174.11362  \nalt        -54.0       70.25      473.0     1062.5     9078.0  \ntz         -10.0        -8.0       -6.0       -5.0        8.0  \ndst          NaN         NaN        NaN        NaN        NaN  \ntzone        NaN         NaN        NaN        NaN        NaN  ",
      "text/html": "<div>\n<style scoped>\n    .dataframe tbody tr th:only-of-type {\n        vertical-align: middle;\n    }\n\n    .dataframe tbody tr th {\n        vertical-align: top;\n    }\n\n    .dataframe thead th {\n        text-align: right;\n    }\n</style>\n<table border=\"1\" class=\"dataframe\">\n  <thead>\n    <tr style=\"text-align: right;\">\n      <th></th>\n      <th>count</th>\n      <th>unique</th>\n      <th>top</th>\n      <th>freq</th>\n      <th>mean</th>\n      <th>std</th>\n      <th>min</th>\n      <th>25%</th>\n      <th>50%</th>\n      <th>75%</th>\n      <th>max</th>\n    </tr>\n  </thead>\n  <tbody>\n    <tr>\n      <th>faa</th>\n      <td>1458</td>\n      <td>1458</td>\n      <td>04G</td>\n      <td>1</td>\n      <td>NaN</td>\n      <td>NaN</td>\n      <td>NaN</td>\n      <td>NaN</td>\n      <td>NaN</td>\n      <td>NaN</td>\n      <td>NaN</td>\n    </tr>\n    <tr>\n      <th>name</th>\n      <td>1458</td>\n      <td>1440</td>\n      <td>Municipal Airport</td>\n      <td>5</td>\n      <td>NaN</td>\n      <td>NaN</td>\n      <td>NaN</td>\n      <td>NaN</td>\n      <td>NaN</td>\n      <td>NaN</td>\n      <td>NaN</td>\n    </tr>\n    <tr>\n      <th>lat</th>\n      <td>1458.0</td>\n      <td>NaN</td>\n      <td>NaN</td>\n      <td>NaN</td>\n      <td>41.648008</td>\n      <td>10.449509</td>\n      <td>19.721375</td>\n      <td>34.257539</td>\n      <td>40.087722</td>\n      <td>45.06715</td>\n      <td>72.270833</td>\n    </tr>\n    <tr>\n      <th>lon</th>\n      <td>1458.0</td>\n      <td>NaN</td>\n      <td>NaN</td>\n      <td>NaN</td>\n      <td>-103.392289</td>\n      <td>29.843118</td>\n      <td>-176.646</td>\n      <td>-119.185652</td>\n      <td>-94.661854</td>\n      <td>-82.516717</td>\n      <td>174.11362</td>\n    </tr>\n    <tr>\n      <th>alt</th>\n      <td>1458.0</td>\n      <td>NaN</td>\n      <td>NaN</td>\n      <td>NaN</td>\n      <td>1001.415638</td>\n      <td>1523.626105</td>\n      <td>-54.0</td>\n      <td>70.25</td>\n      <td>473.0</td>\n      <td>1062.5</td>\n      <td>9078.0</td>\n    </tr>\n    <tr>\n      <th>tz</th>\n      <td>1458.0</td>\n      <td>NaN</td>\n      <td>NaN</td>\n      <td>NaN</td>\n      <td>-6.518519</td>\n      <td>1.623016</td>\n      <td>-10.0</td>\n      <td>-8.0</td>\n      <td>-6.0</td>\n      <td>-5.0</td>\n      <td>8.0</td>\n    </tr>\n    <tr>\n      <th>dst</th>\n      <td>1458</td>\n      <td>3</td>\n      <td>A</td>\n      <td>1388</td>\n      <td>NaN</td>\n      <td>NaN</td>\n      <td>NaN</td>\n      <td>NaN</td>\n      <td>NaN</td>\n      <td>NaN</td>\n      <td>NaN</td>\n    </tr>\n    <tr>\n      <th>tzone</th>\n      <td>1455</td>\n      <td>9</td>\n      <td>America/New_York</td>\n      <td>519</td>\n      <td>NaN</td>\n      <td>NaN</td>\n      <td>NaN</td>\n      <td>NaN</td>\n      <td>NaN</td>\n      <td>NaN</td>\n      <td>NaN</td>\n    </tr>\n  </tbody>\n</table>\n</div>"
     },
     "execution_count": 4,
     "metadata": {},
     "output_type": "execute_result"
    }
   ],
   "source": [
    "# Provide a glimpse of the 'airports' DataFrame\n",
    "airports_description = airports.describe(include='all').transpose()\n",
    "airports_info = airports.info()  # This will print to the console\n",
    "\n",
    "airports_description"
   ],
   "metadata": {
    "collapsed": false,
    "ExecuteTime": {
     "end_time": "2023-11-05T00:43:31.093182Z",
     "start_time": "2023-11-05T00:43:30.922630Z"
    }
   },
   "id": "5a8d5e00819e87a0"
  },
  {
   "cell_type": "code",
   "execution_count": null,
   "outputs": [],
   "source": [],
   "metadata": {
    "collapsed": false
   },
   "id": "b39bfb9c8690b1c5"
  }
 ],
 "metadata": {
  "kernelspec": {
   "display_name": "Python 3",
   "language": "python",
   "name": "python3"
  },
  "language_info": {
   "codemirror_mode": {
    "name": "ipython",
    "version": 2
   },
   "file_extension": ".py",
   "mimetype": "text/x-python",
   "name": "python",
   "nbconvert_exporter": "python",
   "pygments_lexer": "ipython2",
   "version": "2.7.6"
  }
 },
 "nbformat": 4,
 "nbformat_minor": 5
}
