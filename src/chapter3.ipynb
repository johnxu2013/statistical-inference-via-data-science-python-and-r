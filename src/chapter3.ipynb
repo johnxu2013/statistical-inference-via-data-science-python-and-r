{
 "cells": [
  {
   "cell_type": "code",
   "execution_count": 1,
   "id": "initial_id",
   "metadata": {
    "collapsed": true,
    "ExecuteTime": {
     "end_time": "2023-11-18T18:50:03.737075Z",
     "start_time": "2023-11-18T18:50:03.002125Z"
    }
   },
   "outputs": [
    {
     "name": "stdout",
     "output_type": "stream",
     "text": [
      "      year  month  day  dep_time  sched_dep_time  dep_delay  arr_time  \\\n",
      "78    2013      1    1     724.0             725       -1.0    1020.0   \n",
      "644   2013      1    1    1808.0            1815       -7.0    2111.0   \n",
      "949   2013      1    2     722.0             725       -3.0     949.0   \n",
      "1573  2013      1    2    1818.0            1815        3.0    2131.0   \n",
      "1894  2013      1    3     724.0             725       -1.0    1012.0   \n",
      "\n",
      "      sched_arr_time  arr_delay carrier  flight tailnum origin dest  air_time  \\\n",
      "78              1030      -10.0      AS      11  N594AS    EWR  SEA     338.0   \n",
      "644             2130      -19.0      AS       7  N553AS    EWR  SEA     336.0   \n",
      "949             1030      -41.0      AS      11  N592AS    EWR  SEA     314.0   \n",
      "1573            2130        1.0      AS       7  N552AS    EWR  SEA     332.0   \n",
      "1894            1030      -18.0      AS      11  N533AS    EWR  SEA     325.0   \n",
      "\n",
      "      distance  hour  minute            time_hour  \n",
      "78        2402     7      25  2013-01-01 07:00:00  \n",
      "644       2402    18      15  2013-01-01 18:00:00  \n",
      "949       2402     7      25  2013-01-02 07:00:00  \n",
      "1573      2402    18      15  2013-01-02 18:00:00  \n",
      "1894      2402     7      25  2013-01-03 07:00:00  \n"
     ]
    }
   ],
   "source": [
    "import pandas as pd\n",
    "\n",
    "flights_df = pd.read_csv(\"data/flights.csv\")\n",
    "\n",
    "# Filtering the DataFrame to get only Alaska flights (carrier == \"AS\")\n",
    "alaska_flights_df = flights_df[flights_df['carrier'] == 'AS']\n",
    "\n",
    "# Displaying the first few rows of the filtered DataFrame\n",
    "print(alaska_flights_df.head())"
   ]
  },
  {
   "cell_type": "code",
   "execution_count": 2,
   "outputs": [
    {
     "name": "stdout",
     "output_type": "stream",
     "text": [
      "      year  month  day  dep_time  sched_dep_time  dep_delay  arr_time  \\\n",
      "613   2013      1    1    1739.0            1740       -1.0    2051.0   \n",
      "641   2013      1    1    1805.0            1757        8.0    2117.0   \n",
      "780   2013      1    1    2052.0            2029       23.0    2349.0   \n",
      "994   2013      1    2     804.0             805       -1.0    1039.0   \n",
      "1414  2013      1    2    1552.0            1550        2.0    1853.0   \n",
      "\n",
      "      sched_arr_time  arr_delay carrier  flight tailnum origin dest  air_time  \\\n",
      "613             2112      -21.0      DL    1339  N3761R    JFK  PDX     341.0   \n",
      "641             2119       -2.0      UA    1152  N39463    EWR  PDX     336.0   \n",
      "780             2350       -1.0      B6     165  N536JB    JFK  PDX     331.0   \n",
      "994             1110      -31.0      UA     423  N528UA    EWR  PDX     310.0   \n",
      "1414            1922      -29.0      DL     667  N371DA    JFK  PDX     305.0   \n",
      "\n",
      "      distance  hour  minute            time_hour  \n",
      "613       2454    17      40  2013-01-01 17:00:00  \n",
      "641       2434    17      57  2013-01-01 17:00:00  \n",
      "780       2454    20      29  2013-01-01 20:00:00  \n",
      "994       2434     8       5  2013-01-02 08:00:00  \n",
      "1414      2454    15      50  2013-01-02 15:00:00  \n"
     ]
    }
   ],
   "source": [
    "# Filtering the DataFrame for flights to Portland (PDX)\n",
    "portland_flights_df = flights_df[flights_df['dest'] == 'PDX']\n",
    "\n",
    "# Displaying the first few rows of the Portland flights DataFrame\n",
    "print(portland_flights_df.head())"
   ],
   "metadata": {
    "collapsed": false,
    "ExecuteTime": {
     "end_time": "2023-11-18T18:50:18.473211Z",
     "start_time": "2023-11-18T18:50:18.450457Z"
    }
   },
   "id": "76263f8f60defdc4"
  },
  {
   "cell_type": "code",
   "execution_count": 3,
   "outputs": [
    {
     "name": "stdout",
     "output_type": "stream",
     "text": [
      "       year  month  day  dep_time  sched_dep_time  dep_delay  arr_time  \\\n",
      "27121  2013     10    1     729.0             735       -6.0    1049.0   \n",
      "27239  2013     10    1     853.0             900       -7.0    1217.0   \n",
      "27263  2013     10    1     916.0             925       -9.0    1016.0   \n",
      "27405  2013     10    1    1216.0            1221       -5.0    1326.0   \n",
      "27547  2013     10    1    1452.0            1459       -7.0    1602.0   \n",
      "\n",
      "       sched_arr_time  arr_delay carrier  flight tailnum origin dest  \\\n",
      "27121            1040        9.0      DL     183  N721TW    JFK  SEA   \n",
      "27239            1157       20.0      B6      63  N807JB    JFK  SEA   \n",
      "27263            1033      -17.0      B6    1634  N192JB    JFK  BTV   \n",
      "27405            1328       -2.0      B6      34  N318JB    JFK  BTV   \n",
      "27547            1622      -20.0      B6    1734  N258JB    JFK  BTV   \n",
      "\n",
      "       air_time  distance  hour  minute            time_hour  \n",
      "27121     352.0      2422     7      35  2013-10-01 07:00:00  \n",
      "27239     362.0      2422     9       0  2013-10-01 09:00:00  \n",
      "27263      48.0       266     9      25  2013-10-01 09:00:00  \n",
      "27405      49.0       266    12      21  2013-10-01 12:00:00  \n",
      "27547      46.0       266    14      59  2013-10-01 14:00:00  \n"
     ]
    }
   ],
   "source": [
    "# Filtering the DataFrame for flights from JFK to BTV or SEA during fall (October onwards)\n",
    "btv_sea_flights_fall_df = flights_df[(flights_df['origin'] == 'JFK') & \n",
    "                                     ((flights_df['dest'] == 'BTV') | (flights_df['dest'] == 'SEA')) & \n",
    "                                     (flights_df['month'] >= 10)]\n",
    "\n",
    "# Displaying the first few rows of the JFK to BTV/SEA flights in Fall DataFrame\n",
    "print(btv_sea_flights_fall_df.head())"
   ],
   "metadata": {
    "collapsed": false,
    "ExecuteTime": {
     "end_time": "2023-11-18T18:50:41.732439Z",
     "start_time": "2023-11-18T18:50:41.674582Z"
    }
   },
   "id": "a810efa7790296f6"
  },
  {
   "cell_type": "code",
   "execution_count": 4,
   "outputs": [
    {
     "data": {
      "text/plain": "(   year  month  day  dep_time  sched_dep_time  dep_delay  arr_time  \\\n 0  2013      1    1     517.0             515        2.0     830.0   \n 1  2013      1    1     533.0             529        4.0     850.0   \n 2  2013      1    1     542.0             540        2.0     923.0   \n 3  2013      1    1     544.0             545       -1.0    1004.0   \n 4  2013      1    1     554.0             600       -6.0     812.0   \n \n    sched_arr_time  arr_delay carrier  flight tailnum origin dest  air_time  \\\n 0             819       11.0      UA    1545  N14228    EWR  IAH     227.0   \n 1             830       20.0      UA    1714  N24211    LGA  IAH     227.0   \n 2             850       33.0      AA    1141  N619AA    JFK  MIA     160.0   \n 3            1022      -18.0      B6     725  N804JB    JFK  BQN     183.0   \n 4             837      -25.0      DL     461  N668DN    LGA  ATL     116.0   \n \n    distance  hour  minute            time_hour  \n 0      1400     5      15  2013-01-01 05:00:00  \n 1      1416     5      29  2013-01-01 05:00:00  \n 2      1089     5      40  2013-01-01 05:00:00  \n 3      1576     5      45  2013-01-01 05:00:00  \n 4       762     6       0  2013-01-01 06:00:00  ,\n    year  month  day  dep_time  sched_dep_time  dep_delay  arr_time  \\\n 0  2013      1    1     517.0             515        2.0     830.0   \n 1  2013      1    1     533.0             529        4.0     850.0   \n 2  2013      1    1     542.0             540        2.0     923.0   \n 3  2013      1    1     544.0             545       -1.0    1004.0   \n 4  2013      1    1     554.0             600       -6.0     812.0   \n \n    sched_arr_time  arr_delay carrier  flight tailnum origin dest  air_time  \\\n 0             819       11.0      UA    1545  N14228    EWR  IAH     227.0   \n 1             830       20.0      UA    1714  N24211    LGA  IAH     227.0   \n 2             850       33.0      AA    1141  N619AA    JFK  MIA     160.0   \n 3            1022      -18.0      B6     725  N804JB    JFK  BQN     183.0   \n 4             837      -25.0      DL     461  N668DN    LGA  ATL     116.0   \n \n    distance  hour  minute            time_hour  \n 0      1400     5      15  2013-01-01 05:00:00  \n 1      1416     5      29  2013-01-01 05:00:00  \n 2      1089     5      40  2013-01-01 05:00:00  \n 3      1576     5      45  2013-01-01 05:00:00  \n 4       762     6       0  2013-01-01 06:00:00  )"
     },
     "execution_count": 4,
     "metadata": {},
     "output_type": "execute_result"
    }
   ],
   "source": [
    "# Filtering the flights DataFrame to exclude flights to BTV or SEA\n",
    "not_btv_sea_df = flights_df[~((flights_df['dest'] == 'BTV') | (flights_df['dest'] == 'SEA'))]\n",
    "\n",
    "# Filtering the flights DataFrame to include flights not to BTV or to SEA\n",
    "flights_not_btv_or_to_sea_df = flights_df[(flights_df['dest'] != 'BTV') | (flights_df['dest'] == 'SEA')]\n",
    "\n",
    "# Displaying the first few rows of both DataFrames\n",
    "not_btv_sea_df.head(), flights_not_btv_or_to_sea_df.head()"
   ],
   "metadata": {
    "collapsed": false,
    "ExecuteTime": {
     "end_time": "2023-11-18T18:52:05.304874Z",
     "start_time": "2023-11-18T18:52:05.149679Z"
    }
   },
   "id": "fc93dff9cc09f0b8"
  },
  {
   "cell_type": "code",
   "execution_count": 5,
   "outputs": [
    {
     "name": "stdout",
     "output_type": "stream",
     "text": [
      "   year  month  day  dep_time  sched_dep_time  dep_delay  arr_time  \\\n",
      "0  2013      1    1     517.0             515        2.0     830.0   \n",
      "1  2013      1    1     533.0             529        4.0     850.0   \n",
      "2  2013      1    1     542.0             540        2.0     923.0   \n",
      "3  2013      1    1     544.0             545       -1.0    1004.0   \n",
      "4  2013      1    1     554.0             600       -6.0     812.0   \n",
      "\n",
      "   sched_arr_time  arr_delay carrier  flight tailnum origin dest  air_time  \\\n",
      "0             819       11.0      UA    1545  N14228    EWR  IAH     227.0   \n",
      "1             830       20.0      UA    1714  N24211    LGA  IAH     227.0   \n",
      "2             850       33.0      AA    1141  N619AA    JFK  MIA     160.0   \n",
      "3            1022      -18.0      B6     725  N804JB    JFK  BQN     183.0   \n",
      "4             837      -25.0      DL     461  N668DN    LGA  ATL     116.0   \n",
      "\n",
      "   distance  hour  minute            time_hour  \n",
      "0      1400     5      15  2013-01-01 05:00:00  \n",
      "1      1416     5      29  2013-01-01 05:00:00  \n",
      "2      1089     5      40  2013-01-01 05:00:00  \n",
      "3      1576     5      45  2013-01-01 05:00:00  \n",
      "4       762     6       0  2013-01-01 06:00:00  \n"
     ]
    }
   ],
   "source": [
    "# Filtering the flights DataFrame to include flights not to BTV or to SEA\n",
    "flights_not_btv_or_to_sea_df = flights_df[(flights_df['dest'] != 'BTV') | (flights_df['dest'] == 'SEA')]\n",
    "\n",
    "# Displaying the first few rows of the DataFrame\n",
    "print(flights_not_btv_or_to_sea_df.head())"
   ],
   "metadata": {
    "collapsed": false,
    "ExecuteTime": {
     "end_time": "2023-11-18T18:55:38.509245Z",
     "start_time": "2023-11-18T18:55:38.456954Z"
    }
   },
   "id": "d678d06568f21eac"
  },
  {
   "cell_type": "code",
   "execution_count": 6,
   "outputs": [
    {
     "name": "stdout",
     "output_type": "stream",
     "text": [
      "    year  month  day  dep_time  sched_dep_time  dep_delay  arr_time  \\\n",
      "13  2013      1    1     558.0             600       -2.0     923.0   \n",
      "26  2013      1    1     611.0             600       11.0     945.0   \n",
      "55  2013      1    1     655.0             700       -5.0    1037.0   \n",
      "78  2013      1    1     724.0             725       -1.0    1020.0   \n",
      "82  2013      1    1     729.0             730       -1.0    1049.0   \n",
      "\n",
      "    sched_arr_time  arr_delay carrier  flight tailnum origin dest  air_time  \\\n",
      "13             937      -14.0      UA    1124  N53441    EWR  SFO     361.0   \n",
      "26             931       14.0      UA     303  N532UA    JFK  SFO     366.0   \n",
      "55            1045       -8.0      DL    1865  N705TW    JFK  SFO     362.0   \n",
      "78            1030      -10.0      AS      11  N594AS    EWR  SEA     338.0   \n",
      "82            1115      -26.0      VX      11  N635VA    JFK  SFO     356.0   \n",
      "\n",
      "    distance  hour  minute            time_hour  \n",
      "13      2565     6       0  2013-01-01 06:00:00  \n",
      "26      2586     6       0  2013-01-01 06:00:00  \n",
      "55      2586     7       0  2013-01-01 07:00:00  \n",
      "78      2402     7      25  2013-01-01 07:00:00  \n",
      "82      2586     7      30  2013-01-01 07:00:00  \n"
     ]
    }
   ],
   "source": [
    "# Assuming flights_df is your DataFrame for the 'flights' dataset\n",
    "# Filtering the DataFrame for flights to multiple specified airports\n",
    "many_airports_df = flights_df[flights_df['dest'].isin(['SEA', 'SFO', 'PDX', 'BTV', 'BDL'])]\n",
    "\n",
    "# Displaying the first few rows of the DataFrame\n",
    "print(many_airports_df.head())"
   ],
   "metadata": {
    "collapsed": false,
    "ExecuteTime": {
     "end_time": "2023-11-18T18:57:22.211710Z",
     "start_time": "2023-11-18T18:57:22.191436Z"
    }
   },
   "id": "b8430f21cd5bd986"
  },
  {
   "cell_type": "code",
   "execution_count": 7,
   "outputs": [
    {
     "name": "stdout",
     "output_type": "stream",
     "text": [
      "mean_temp       55.260392\n",
      "std_dev_temp    17.787852\n",
      "Name: temp, dtype: float64\n"
     ]
    }
   ],
   "source": [
    "import pandas as pd\n",
    "\n",
    "# Load the weather dataset\n",
    "weather_df = pd.read_csv('data/weather.csv')  # Replace with the correct path to your file\n",
    "\n",
    "# Summarizing the weather DataFrame to calculate the mean and standard deviation of temperature\n",
    "summary_temp = weather_df['temp'].agg(['mean', 'std']).rename({'mean': 'mean_temp', 'std': 'std_dev_temp'})\n",
    "\n",
    "# Displaying the summary\n",
    "print(summary_temp)"
   ],
   "metadata": {
    "collapsed": false,
    "ExecuteTime": {
     "end_time": "2023-11-18T19:15:05.025187Z",
     "start_time": "2023-11-18T19:15:04.890601Z"
    }
   },
   "id": "66686aedfee5de42"
  },
  {
   "cell_type": "code",
   "execution_count": 8,
   "outputs": [
    {
     "data": {
      "text/plain": "mean_temp       55.260392\nstd_dev_temp    17.787852\nName: temp, dtype: float64"
     },
     "execution_count": 8,
     "metadata": {},
     "output_type": "execute_result"
    }
   ],
   "source": [
    "import pandas as pd\n",
    "\n",
    "# Load the data from the uploaded file\n",
    "weather_df = pd.read_csv('data/weather.csv')\n",
    "\n",
    "# Calculate the mean and standard deviation of the temperature\n",
    "summary_temp = weather_df['temp'].agg(['mean', 'std']).rename({'mean': 'mean_temp', 'std': 'std_dev_temp'})\n",
    "summary_temp"
   ],
   "metadata": {
    "collapsed": false,
    "ExecuteTime": {
     "end_time": "2023-11-18T19:17:16.263672Z",
     "start_time": "2023-11-18T19:17:16.205056Z"
    }
   },
   "id": "1968035d38de5657"
  },
  {
   "cell_type": "code",
   "execution_count": 11,
   "outputs": [
    {
     "name": "stdout",
     "output_type": "stream",
     "text": [
      "mean_temp        55.260392\n",
      "count_temp    26114.000000\n",
      "Name: temp, dtype: float64\n"
     ]
    },
    {
     "data": {
      "text/plain": "       mean_temp  std_dev_temp\nmonth                         \n1      35.635660     10.224635\n2      34.270597      6.982378\n3      39.880072      6.249278\n4      51.745642      8.786168\n5      61.795000      9.681644\n6      72.184000      7.546371\n7      80.066221      7.119899\n8      74.468466      5.191615\n9      67.371292      8.465902\n10     60.071130      8.846035\n11     44.990434     10.443805\n12     38.441800      9.982432",
      "text/html": "<div>\n<style scoped>\n    .dataframe tbody tr th:only-of-type {\n        vertical-align: middle;\n    }\n\n    .dataframe tbody tr th {\n        vertical-align: top;\n    }\n\n    .dataframe thead th {\n        text-align: right;\n    }\n</style>\n<table border=\"1\" class=\"dataframe\">\n  <thead>\n    <tr style=\"text-align: right;\">\n      <th></th>\n      <th>mean_temp</th>\n      <th>std_dev_temp</th>\n    </tr>\n    <tr>\n      <th>month</th>\n      <th></th>\n      <th></th>\n    </tr>\n  </thead>\n  <tbody>\n    <tr>\n      <th>1</th>\n      <td>35.635660</td>\n      <td>10.224635</td>\n    </tr>\n    <tr>\n      <th>2</th>\n      <td>34.270597</td>\n      <td>6.982378</td>\n    </tr>\n    <tr>\n      <th>3</th>\n      <td>39.880072</td>\n      <td>6.249278</td>\n    </tr>\n    <tr>\n      <th>4</th>\n      <td>51.745642</td>\n      <td>8.786168</td>\n    </tr>\n    <tr>\n      <th>5</th>\n      <td>61.795000</td>\n      <td>9.681644</td>\n    </tr>\n    <tr>\n      <th>6</th>\n      <td>72.184000</td>\n      <td>7.546371</td>\n    </tr>\n    <tr>\n      <th>7</th>\n      <td>80.066221</td>\n      <td>7.119899</td>\n    </tr>\n    <tr>\n      <th>8</th>\n      <td>74.468466</td>\n      <td>5.191615</td>\n    </tr>\n    <tr>\n      <th>9</th>\n      <td>67.371292</td>\n      <td>8.465902</td>\n    </tr>\n    <tr>\n      <th>10</th>\n      <td>60.071130</td>\n      <td>8.846035</td>\n    </tr>\n    <tr>\n      <th>11</th>\n      <td>44.990434</td>\n      <td>10.443805</td>\n    </tr>\n    <tr>\n      <th>12</th>\n      <td>38.441800</td>\n      <td>9.982432</td>\n    </tr>\n  </tbody>\n</table>\n</div>"
     },
     "execution_count": 11,
     "metadata": {},
     "output_type": "execute_result"
    }
   ],
   "source": [
    "# Grouping by month and calculating mean and standard deviation for each month\n",
    "summary_monthly_temp = weather_df.groupby('month')['temp'].agg(['mean', 'std']).rename(columns={'mean': 'mean_temp', 'std': 'std_dev_temp'})\n",
    "\n",
    "# Including a count of observations in the overall summary\n",
    "summary_temp_with_count = weather_df['temp'].agg(['mean', 'count']).rename({'mean': 'mean_temp', 'count': 'count_temp'})\n",
    "print(summary_temp_with_count) \n",
    "summary_monthly_temp"
   ],
   "metadata": {
    "collapsed": false,
    "ExecuteTime": {
     "end_time": "2023-11-18T20:42:01.353146Z",
     "start_time": "2023-11-18T20:42:01.329980Z"
    }
   },
   "id": "b7bf4e0977b3f2e1"
  },
  {
   "cell_type": "code",
   "execution_count": 13,
   "outputs": [
    {
     "data": {
      "text/plain": "cut\nFair         4358.757764\nGood         3928.864452\nIdeal        3457.541970\nPremium      4584.257704\nVery Good    3981.759891\nName: avg_price, dtype: float64"
     },
     "execution_count": 13,
     "metadata": {},
     "output_type": "execute_result"
    }
   ],
   "source": [
    "diamonds_df = pd.read_csv(\"data/diamonds.csv\")\n",
    "\n",
    "grouped_avg_price_by_cut = diamonds_df.groupby('cut')['price'].mean().rename('avg_price')\n",
    "grouped_avg_price_by_cut"
   ],
   "metadata": {
    "collapsed": false,
    "ExecuteTime": {
     "end_time": "2023-11-18T21:12:13.308381Z",
     "start_time": "2023-11-18T21:12:13.220673Z"
    }
   },
   "id": "9947417b28e2be75"
  },
  {
   "cell_type": "code",
   "execution_count": 14,
   "outputs": [
    {
     "data": {
      "text/plain": "       carat        cut color clarity  depth  table  price     x     y     z\n0       0.23      Ideal     E     SI2   61.5   55.0    326  3.95  3.98  2.43\n1       0.21    Premium     E     SI1   59.8   61.0    326  3.89  3.84  2.31\n2       0.23       Good     E     VS1   56.9   65.0    327  4.05  4.07  2.31\n3       0.29    Premium     I     VS2   62.4   58.0    334  4.20  4.23  2.63\n4       0.31       Good     J     SI2   63.3   58.0    335  4.34  4.35  2.75\n...      ...        ...   ...     ...    ...    ...    ...   ...   ...   ...\n53935   0.72      Ideal     D     SI1   60.8   57.0   2757  5.75  5.76  3.50\n53936   0.72       Good     D     SI1   63.1   55.0   2757  5.69  5.75  3.61\n53937   0.70  Very Good     D     SI1   62.8   60.0   2757  5.66  5.68  3.56\n53938   0.86    Premium     H     SI2   61.0   58.0   2757  6.15  6.12  3.74\n53939   0.75      Ideal     D     SI2   62.2   55.0   2757  5.83  5.87  3.64\n\n[53940 rows x 10 columns]",
      "text/html": "<div>\n<style scoped>\n    .dataframe tbody tr th:only-of-type {\n        vertical-align: middle;\n    }\n\n    .dataframe tbody tr th {\n        vertical-align: top;\n    }\n\n    .dataframe thead th {\n        text-align: right;\n    }\n</style>\n<table border=\"1\" class=\"dataframe\">\n  <thead>\n    <tr style=\"text-align: right;\">\n      <th></th>\n      <th>carat</th>\n      <th>cut</th>\n      <th>color</th>\n      <th>clarity</th>\n      <th>depth</th>\n      <th>table</th>\n      <th>price</th>\n      <th>x</th>\n      <th>y</th>\n      <th>z</th>\n    </tr>\n  </thead>\n  <tbody>\n    <tr>\n      <th>0</th>\n      <td>0.23</td>\n      <td>Ideal</td>\n      <td>E</td>\n      <td>SI2</td>\n      <td>61.5</td>\n      <td>55.0</td>\n      <td>326</td>\n      <td>3.95</td>\n      <td>3.98</td>\n      <td>2.43</td>\n    </tr>\n    <tr>\n      <th>1</th>\n      <td>0.21</td>\n      <td>Premium</td>\n      <td>E</td>\n      <td>SI1</td>\n      <td>59.8</td>\n      <td>61.0</td>\n      <td>326</td>\n      <td>3.89</td>\n      <td>3.84</td>\n      <td>2.31</td>\n    </tr>\n    <tr>\n      <th>2</th>\n      <td>0.23</td>\n      <td>Good</td>\n      <td>E</td>\n      <td>VS1</td>\n      <td>56.9</td>\n      <td>65.0</td>\n      <td>327</td>\n      <td>4.05</td>\n      <td>4.07</td>\n      <td>2.31</td>\n    </tr>\n    <tr>\n      <th>3</th>\n      <td>0.29</td>\n      <td>Premium</td>\n      <td>I</td>\n      <td>VS2</td>\n      <td>62.4</td>\n      <td>58.0</td>\n      <td>334</td>\n      <td>4.20</td>\n      <td>4.23</td>\n      <td>2.63</td>\n    </tr>\n    <tr>\n      <th>4</th>\n      <td>0.31</td>\n      <td>Good</td>\n      <td>J</td>\n      <td>SI2</td>\n      <td>63.3</td>\n      <td>58.0</td>\n      <td>335</td>\n      <td>4.34</td>\n      <td>4.35</td>\n      <td>2.75</td>\n    </tr>\n    <tr>\n      <th>...</th>\n      <td>...</td>\n      <td>...</td>\n      <td>...</td>\n      <td>...</td>\n      <td>...</td>\n      <td>...</td>\n      <td>...</td>\n      <td>...</td>\n      <td>...</td>\n      <td>...</td>\n    </tr>\n    <tr>\n      <th>53935</th>\n      <td>0.72</td>\n      <td>Ideal</td>\n      <td>D</td>\n      <td>SI1</td>\n      <td>60.8</td>\n      <td>57.0</td>\n      <td>2757</td>\n      <td>5.75</td>\n      <td>5.76</td>\n      <td>3.50</td>\n    </tr>\n    <tr>\n      <th>53936</th>\n      <td>0.72</td>\n      <td>Good</td>\n      <td>D</td>\n      <td>SI1</td>\n      <td>63.1</td>\n      <td>55.0</td>\n      <td>2757</td>\n      <td>5.69</td>\n      <td>5.75</td>\n      <td>3.61</td>\n    </tr>\n    <tr>\n      <th>53937</th>\n      <td>0.70</td>\n      <td>Very Good</td>\n      <td>D</td>\n      <td>SI1</td>\n      <td>62.8</td>\n      <td>60.0</td>\n      <td>2757</td>\n      <td>5.66</td>\n      <td>5.68</td>\n      <td>3.56</td>\n    </tr>\n    <tr>\n      <th>53938</th>\n      <td>0.86</td>\n      <td>Premium</td>\n      <td>H</td>\n      <td>SI2</td>\n      <td>61.0</td>\n      <td>58.0</td>\n      <td>2757</td>\n      <td>6.15</td>\n      <td>6.12</td>\n      <td>3.74</td>\n    </tr>\n    <tr>\n      <th>53939</th>\n      <td>0.75</td>\n      <td>Ideal</td>\n      <td>D</td>\n      <td>SI2</td>\n      <td>62.2</td>\n      <td>55.0</td>\n      <td>2757</td>\n      <td>5.83</td>\n      <td>5.87</td>\n      <td>3.64</td>\n    </tr>\n  </tbody>\n</table>\n<p>53940 rows × 10 columns</p>\n</div>"
     },
     "execution_count": 14,
     "metadata": {},
     "output_type": "execute_result"
    }
   ],
   "source": [
    "# Grouping by 'cut' and then effectively ungrouping by not performing any operation\n",
    "ungrouped_diamonds = diamonds_df.copy()\n",
    "ungrouped_diamonds"
   ],
   "metadata": {
    "collapsed": false,
    "ExecuteTime": {
     "end_time": "2023-11-18T21:13:02.852581Z",
     "start_time": "2023-11-18T21:13:02.821186Z"
    }
   },
   "id": "5d8813da9c2e120a"
  },
  {
   "cell_type": "code",
   "execution_count": 16,
   "outputs": [
    {
     "data": {
      "text/plain": "(  origin   count\n 0    EWR  120835\n 1    JFK  111279\n 2    LGA  104662,\n   origin  month  count\n 0    EWR      1   9893\n 1    EWR      2   9107\n 2    EWR      3  10420\n 3    EWR      4  10531\n 4    EWR      5  10592)"
     },
     "execution_count": 16,
     "metadata": {},
     "output_type": "execute_result"
    }
   ],
   "source": [
    "import pandas as pd\n",
    "\n",
    "# Load the CSV file\n",
    "flights = pd.read_csv('data/flights.csv')\n",
    "\n",
    "# Group by 'origin' and count the number of flights\n",
    "by_origin = flights.groupby('origin').size().reset_index(name='count')\n",
    "\n",
    "# Group by 'origin' and 'month', then count the number of flights\n",
    "by_origin_monthly = flights.groupby(['origin', 'month']).size().reset_index(name='count')\n",
    "\n",
    "by_origin, by_origin_monthly.head()"
   ],
   "metadata": {
    "collapsed": false,
    "ExecuteTime": {
     "end_time": "2023-11-19T14:26:43.686883Z",
     "start_time": "2023-11-19T14:26:42.900981Z"
    }
   },
   "id": "4c39125959898146"
  },
  {
   "cell_type": "code",
   "execution_count": 17,
   "outputs": [
    {
     "data": {
      "text/plain": "   month origin  count\n0      1    EWR   9893\n1      1    JFK   9161\n2      1    LGA   7950\n3      2    EWR   9107\n4      2    JFK   8421",
      "text/html": "<div>\n<style scoped>\n    .dataframe tbody tr th:only-of-type {\n        vertical-align: middle;\n    }\n\n    .dataframe tbody tr th {\n        vertical-align: top;\n    }\n\n    .dataframe thead th {\n        text-align: right;\n    }\n</style>\n<table border=\"1\" class=\"dataframe\">\n  <thead>\n    <tr style=\"text-align: right;\">\n      <th></th>\n      <th>month</th>\n      <th>origin</th>\n      <th>count</th>\n    </tr>\n  </thead>\n  <tbody>\n    <tr>\n      <th>0</th>\n      <td>1</td>\n      <td>EWR</td>\n      <td>9893</td>\n    </tr>\n    <tr>\n      <th>1</th>\n      <td>1</td>\n      <td>JFK</td>\n      <td>9161</td>\n    </tr>\n    <tr>\n      <th>2</th>\n      <td>1</td>\n      <td>LGA</td>\n      <td>7950</td>\n    </tr>\n    <tr>\n      <th>3</th>\n      <td>2</td>\n      <td>EWR</td>\n      <td>9107</td>\n    </tr>\n    <tr>\n      <th>4</th>\n      <td>2</td>\n      <td>JFK</td>\n      <td>8421</td>\n    </tr>\n  </tbody>\n</table>\n</div>"
     },
     "execution_count": 17,
     "metadata": {},
     "output_type": "execute_result"
    }
   ],
   "source": [
    "# Group by 'month' and 'origin', then count the number of flights\n",
    "by_monthly_origin = flights.groupby(['month', 'origin']).size().reset_index(name='count')\n",
    "\n",
    "by_monthly_origin.head()"
   ],
   "metadata": {
    "collapsed": false,
    "ExecuteTime": {
     "end_time": "2023-11-19T15:24:00.688997Z",
     "start_time": "2023-11-19T15:24:00.615335Z"
    }
   },
   "id": "5d1c1f07109483dc"
  },
  {
   "cell_type": "code",
   "execution_count": 20,
   "outputs": [
    {
     "data": {
      "text/plain": "  carrier  count\n0      9E  18460\n1      AA  32729\n2      AS    714\n3      B6  54635\n4      DL  48110",
      "text/html": "<div>\n<style scoped>\n    .dataframe tbody tr th:only-of-type {\n        vertical-align: middle;\n    }\n\n    .dataframe tbody tr th {\n        vertical-align: top;\n    }\n\n    .dataframe thead th {\n        text-align: right;\n    }\n</style>\n<table border=\"1\" class=\"dataframe\">\n  <thead>\n    <tr style=\"text-align: right;\">\n      <th></th>\n      <th>carrier</th>\n      <th>count</th>\n    </tr>\n  </thead>\n  <tbody>\n    <tr>\n      <th>0</th>\n      <td>9E</td>\n      <td>18460</td>\n    </tr>\n    <tr>\n      <th>1</th>\n      <td>AA</td>\n      <td>32729</td>\n    </tr>\n    <tr>\n      <th>2</th>\n      <td>AS</td>\n      <td>714</td>\n    </tr>\n    <tr>\n      <th>3</th>\n      <td>B6</td>\n      <td>54635</td>\n    </tr>\n    <tr>\n      <th>4</th>\n      <td>DL</td>\n      <td>48110</td>\n    </tr>\n  </tbody>\n</table>\n</div>"
     },
     "execution_count": 20,
     "metadata": {},
     "output_type": "execute_result"
    }
   ],
   "source": [
    "import pandas as pd\n",
    "\n",
    "# Filter flights where destination is not EWR, JFK, or LGA, then group by carrier and count\n",
    "filtered_by_carrier = flights[~flights['dest'].isin(['EWR', 'JFK', 'LGA'])]\n",
    "count_by_carrier = filtered_by_carrier.groupby('carrier').size().reset_index(name='count')\n",
    "\n",
    "count_by_carrier.head() "
   ],
   "metadata": {
    "collapsed": false,
    "ExecuteTime": {
     "end_time": "2023-11-19T15:26:15.298137Z",
     "start_time": "2023-11-19T15:26:15.161632Z"
    }
   },
   "id": "f6f263eec2595865"
  },
  {
   "cell_type": "code",
   "execution_count": 22,
   "outputs": [
    {
     "data": {
      "text/plain": "   month  mean_temp_in_F  mean_temp_in_C\n0      1       35.635660        2.019811\n1      2       34.270597        1.261443\n2      3       39.880072        4.377818\n3      4       51.745642       10.969801\n4      5       61.795000       16.552778",
      "text/html": "<div>\n<style scoped>\n    .dataframe tbody tr th:only-of-type {\n        vertical-align: middle;\n    }\n\n    .dataframe tbody tr th {\n        vertical-align: top;\n    }\n\n    .dataframe thead th {\n        text-align: right;\n    }\n</style>\n<table border=\"1\" class=\"dataframe\">\n  <thead>\n    <tr style=\"text-align: right;\">\n      <th></th>\n      <th>month</th>\n      <th>mean_temp_in_F</th>\n      <th>mean_temp_in_C</th>\n    </tr>\n  </thead>\n  <tbody>\n    <tr>\n      <th>0</th>\n      <td>1</td>\n      <td>35.635660</td>\n      <td>2.019811</td>\n    </tr>\n    <tr>\n      <th>1</th>\n      <td>2</td>\n      <td>34.270597</td>\n      <td>1.261443</td>\n    </tr>\n    <tr>\n      <th>2</th>\n      <td>3</td>\n      <td>39.880072</td>\n      <td>4.377818</td>\n    </tr>\n    <tr>\n      <th>3</th>\n      <td>4</td>\n      <td>51.745642</td>\n      <td>10.969801</td>\n    </tr>\n    <tr>\n      <th>4</th>\n      <td>5</td>\n      <td>61.795000</td>\n      <td>16.552778</td>\n    </tr>\n  </tbody>\n</table>\n</div>"
     },
     "execution_count": 22,
     "metadata": {},
     "output_type": "execute_result"
    }
   ],
   "source": [
    "weather = pd.read_csv('data/weather.csv')\n",
    "\n",
    "# Convert temperature from Fahrenheit to Celsius\n",
    "weather['temp_in_C'] = (weather['temp'] - 32) / 1.8\n",
    "\n",
    "# Group by month and calculate mean temperature in both Fahrenheit and Celsius\n",
    "summary_monthly_temp = weather.groupby('month').agg(\n",
    "    mean_temp_in_F=pd.NamedAgg(column='temp', aggfunc=lambda x: x.mean(skipna=True)),\n",
    "    mean_temp_in_C=pd.NamedAgg(column='temp_in_C', aggfunc=lambda x: x.mean(skipna=True))\n",
    ").reset_index()\n",
    "\n",
    "summary_monthly_temp.head()"
   ],
   "metadata": {
    "collapsed": false,
    "ExecuteTime": {
     "end_time": "2023-11-19T15:28:39.396412Z",
     "start_time": "2023-11-19T15:28:39.328955Z"
    }
   },
   "id": "942fabd3e8f0c43a"
  },
  {
   "cell_type": "code",
   "execution_count": 23,
   "outputs": [
    {
     "data": {
      "text/plain": "   year  month  day  dep_time  sched_dep_time  dep_delay  arr_time  \\\n0  2013      1    1     517.0             515        2.0     830.0   \n1  2013      1    1     533.0             529        4.0     850.0   \n2  2013      1    1     542.0             540        2.0     923.0   \n3  2013      1    1     544.0             545       -1.0    1004.0   \n4  2013      1    1     554.0             600       -6.0     812.0   \n\n   sched_arr_time  arr_delay carrier  flight tailnum origin dest  air_time  \\\n0             819       11.0      UA    1545  N14228    EWR  IAH     227.0   \n1             830       20.0      UA    1714  N24211    LGA  IAH     227.0   \n2             850       33.0      AA    1141  N619AA    JFK  MIA     160.0   \n3            1022      -18.0      B6     725  N804JB    JFK  BQN     183.0   \n4             837      -25.0      DL     461  N668DN    LGA  ATL     116.0   \n\n   distance  hour  minute            time_hour  gain  \n0      1400     5      15  2013-01-01 05:00:00  -9.0  \n1      1416     5      29  2013-01-01 05:00:00 -16.0  \n2      1089     5      40  2013-01-01 05:00:00 -31.0  \n3      1576     5      45  2013-01-01 05:00:00  17.0  \n4       762     6       0  2013-01-01 06:00:00  19.0  ",
      "text/html": "<div>\n<style scoped>\n    .dataframe tbody tr th:only-of-type {\n        vertical-align: middle;\n    }\n\n    .dataframe tbody tr th {\n        vertical-align: top;\n    }\n\n    .dataframe thead th {\n        text-align: right;\n    }\n</style>\n<table border=\"1\" class=\"dataframe\">\n  <thead>\n    <tr style=\"text-align: right;\">\n      <th></th>\n      <th>year</th>\n      <th>month</th>\n      <th>day</th>\n      <th>dep_time</th>\n      <th>sched_dep_time</th>\n      <th>dep_delay</th>\n      <th>arr_time</th>\n      <th>sched_arr_time</th>\n      <th>arr_delay</th>\n      <th>carrier</th>\n      <th>flight</th>\n      <th>tailnum</th>\n      <th>origin</th>\n      <th>dest</th>\n      <th>air_time</th>\n      <th>distance</th>\n      <th>hour</th>\n      <th>minute</th>\n      <th>time_hour</th>\n      <th>gain</th>\n    </tr>\n  </thead>\n  <tbody>\n    <tr>\n      <th>0</th>\n      <td>2013</td>\n      <td>1</td>\n      <td>1</td>\n      <td>517.0</td>\n      <td>515</td>\n      <td>2.0</td>\n      <td>830.0</td>\n      <td>819</td>\n      <td>11.0</td>\n      <td>UA</td>\n      <td>1545</td>\n      <td>N14228</td>\n      <td>EWR</td>\n      <td>IAH</td>\n      <td>227.0</td>\n      <td>1400</td>\n      <td>5</td>\n      <td>15</td>\n      <td>2013-01-01 05:00:00</td>\n      <td>-9.0</td>\n    </tr>\n    <tr>\n      <th>1</th>\n      <td>2013</td>\n      <td>1</td>\n      <td>1</td>\n      <td>533.0</td>\n      <td>529</td>\n      <td>4.0</td>\n      <td>850.0</td>\n      <td>830</td>\n      <td>20.0</td>\n      <td>UA</td>\n      <td>1714</td>\n      <td>N24211</td>\n      <td>LGA</td>\n      <td>IAH</td>\n      <td>227.0</td>\n      <td>1416</td>\n      <td>5</td>\n      <td>29</td>\n      <td>2013-01-01 05:00:00</td>\n      <td>-16.0</td>\n    </tr>\n    <tr>\n      <th>2</th>\n      <td>2013</td>\n      <td>1</td>\n      <td>1</td>\n      <td>542.0</td>\n      <td>540</td>\n      <td>2.0</td>\n      <td>923.0</td>\n      <td>850</td>\n      <td>33.0</td>\n      <td>AA</td>\n      <td>1141</td>\n      <td>N619AA</td>\n      <td>JFK</td>\n      <td>MIA</td>\n      <td>160.0</td>\n      <td>1089</td>\n      <td>5</td>\n      <td>40</td>\n      <td>2013-01-01 05:00:00</td>\n      <td>-31.0</td>\n    </tr>\n    <tr>\n      <th>3</th>\n      <td>2013</td>\n      <td>1</td>\n      <td>1</td>\n      <td>544.0</td>\n      <td>545</td>\n      <td>-1.0</td>\n      <td>1004.0</td>\n      <td>1022</td>\n      <td>-18.0</td>\n      <td>B6</td>\n      <td>725</td>\n      <td>N804JB</td>\n      <td>JFK</td>\n      <td>BQN</td>\n      <td>183.0</td>\n      <td>1576</td>\n      <td>5</td>\n      <td>45</td>\n      <td>2013-01-01 05:00:00</td>\n      <td>17.0</td>\n    </tr>\n    <tr>\n      <th>4</th>\n      <td>2013</td>\n      <td>1</td>\n      <td>1</td>\n      <td>554.0</td>\n      <td>600</td>\n      <td>-6.0</td>\n      <td>812.0</td>\n      <td>837</td>\n      <td>-25.0</td>\n      <td>DL</td>\n      <td>461</td>\n      <td>N668DN</td>\n      <td>LGA</td>\n      <td>ATL</td>\n      <td>116.0</td>\n      <td>762</td>\n      <td>6</td>\n      <td>0</td>\n      <td>2013-01-01 06:00:00</td>\n      <td>19.0</td>\n    </tr>\n  </tbody>\n</table>\n</div>"
     },
     "execution_count": 23,
     "metadata": {},
     "output_type": "execute_result"
    }
   ],
   "source": [
    "# Add a new column 'gain' to the flights dataframe, calculated as dep_delay - arr_delay\n",
    "flights['gain'] = flights['dep_delay'] - flights['arr_delay']\n",
    "flights.head()"
   ],
   "metadata": {
    "collapsed": false,
    "ExecuteTime": {
     "end_time": "2023-11-19T15:29:40.300181Z",
     "start_time": "2023-11-19T15:29:40.262455Z"
    }
   },
   "id": "b102a6b766217495"
  },
  {
   "cell_type": "code",
   "execution_count": 25,
   "outputs": [
    {
     "data": {
      "text/plain": "{'min': -196.0,\n 'q1': -3.0,\n 'median': 7.0,\n 'q3': 17.0,\n 'max': 109.0,\n 'mean': 5.659778949490753,\n 'sd': 18.04362074225006,\n 'missing': 9430}"
     },
     "execution_count": 25,
     "metadata": {},
     "output_type": "execute_result"
    }
   ],
   "source": [
    "import numpy as np\n",
    "\n",
    "# Calculate the summary statistics for the 'gain' column\n",
    "gain_summary = {\n",
    "    'min': np.nanmin(flights['gain']),\n",
    "    'q1': np.nanquantile(flights['gain'], 0.25),\n",
    "    'median': np.nanmedian(flights['gain']),\n",
    "    'q3': np.nanquantile(flights['gain'], 0.75),\n",
    "    'max': np.nanmax(flights['gain']),\n",
    "    'mean': np.nanmean(flights['gain']),\n",
    "    'sd': np.nanstd(flights['gain']),\n",
    "    'missing': np.isnan(flights['gain']).sum()\n",
    "}\n",
    "\n",
    "gain_summary"
   ],
   "metadata": {
    "collapsed": false,
    "ExecuteTime": {
     "end_time": "2023-11-19T15:31:15.869526Z",
     "start_time": "2023-11-19T15:31:15.826550Z"
    }
   },
   "id": "2f8fb6d3473cb2a5"
  },
  {
   "cell_type": "code",
   "execution_count": 26,
   "outputs": [
    {
     "data": {
      "text/plain": "<Figure size 1000x600 with 1 Axes>",
      "image/png": "[encoded data removed]"
     },
     "metadata": {},
     "output_type": "display_data"
    },
    {
     "data": {
      "text/plain": "   year  month  day  dep_time  sched_dep_time  dep_delay  arr_time  \\\n0  2013      1    1     517.0             515        2.0     830.0   \n1  2013      1    1     533.0             529        4.0     850.0   \n2  2013      1    1     542.0             540        2.0     923.0   \n3  2013      1    1     544.0             545       -1.0    1004.0   \n4  2013      1    1     554.0             600       -6.0     812.0   \n\n   sched_arr_time  arr_delay carrier  ...  origin dest air_time distance  \\\n0             819       11.0      UA  ...     EWR  IAH    227.0     1400   \n1             830       20.0      UA  ...     LGA  IAH    227.0     1416   \n2             850       33.0      AA  ...     JFK  MIA    160.0     1089   \n3            1022      -18.0      B6  ...     JFK  BQN    183.0     1576   \n4             837      -25.0      DL  ...     LGA  ATL    116.0      762   \n\n   hour  minute            time_hour  gain     hours  gain_per_hour  \n0     5      15  2013-01-01 05:00:00  -9.0  3.783333      -2.378855  \n1     5      29  2013-01-01 05:00:00 -16.0  3.783333      -4.229075  \n2     5      40  2013-01-01 05:00:00 -31.0  2.666667     -11.625000  \n3     5      45  2013-01-01 05:00:00  17.0  3.050000       5.573770  \n4     6       0  2013-01-01 06:00:00  19.0  1.933333       9.827586  \n\n[5 rows x 22 columns]",
      "text/html": "<div>\n<style scoped>\n    .dataframe tbody tr th:only-of-type {\n        vertical-align: middle;\n    }\n\n    .dataframe tbody tr th {\n        vertical-align: top;\n    }\n\n    .dataframe thead th {\n        text-align: right;\n    }\n</style>\n<table border=\"1\" class=\"dataframe\">\n  <thead>\n    <tr style=\"text-align: right;\">\n      <th></th>\n      <th>year</th>\n      <th>month</th>\n      <th>day</th>\n      <th>dep_time</th>\n      <th>sched_dep_time</th>\n      <th>dep_delay</th>\n      <th>arr_time</th>\n      <th>sched_arr_time</th>\n      <th>arr_delay</th>\n      <th>carrier</th>\n      <th>...</th>\n      <th>origin</th>\n      <th>dest</th>\n      <th>air_time</th>\n      <th>distance</th>\n      <th>hour</th>\n      <th>minute</th>\n      <th>time_hour</th>\n      <th>gain</th>\n      <th>hours</th>\n      <th>gain_per_hour</th>\n    </tr>\n  </thead>\n  <tbody>\n    <tr>\n      <th>0</th>\n      <td>2013</td>\n      <td>1</td>\n      <td>1</td>\n      <td>517.0</td>\n      <td>515</td>\n      <td>2.0</td>\n      <td>830.0</td>\n      <td>819</td>\n      <td>11.0</td>\n      <td>UA</td>\n      <td>...</td>\n      <td>EWR</td>\n      <td>IAH</td>\n      <td>227.0</td>\n      <td>1400</td>\n      <td>5</td>\n      <td>15</td>\n      <td>2013-01-01 05:00:00</td>\n      <td>-9.0</td>\n      <td>3.783333</td>\n      <td>-2.378855</td>\n    </tr>\n    <tr>\n      <th>1</th>\n      <td>2013</td>\n      <td>1</td>\n      <td>1</td>\n      <td>533.0</td>\n      <td>529</td>\n      <td>4.0</td>\n      <td>850.0</td>\n      <td>830</td>\n      <td>20.0</td>\n      <td>UA</td>\n      <td>...</td>\n      <td>LGA</td>\n      <td>IAH</td>\n      <td>227.0</td>\n      <td>1416</td>\n      <td>5</td>\n      <td>29</td>\n      <td>2013-01-01 05:00:00</td>\n      <td>-16.0</td>\n      <td>3.783333</td>\n      <td>-4.229075</td>\n    </tr>\n    <tr>\n      <th>2</th>\n      <td>2013</td>\n      <td>1</td>\n      <td>1</td>\n      <td>542.0</td>\n      <td>540</td>\n      <td>2.0</td>\n      <td>923.0</td>\n      <td>850</td>\n      <td>33.0</td>\n      <td>AA</td>\n      <td>...</td>\n      <td>JFK</td>\n      <td>MIA</td>\n      <td>160.0</td>\n      <td>1089</td>\n      <td>5</td>\n      <td>40</td>\n      <td>2013-01-01 05:00:00</td>\n      <td>-31.0</td>\n      <td>2.666667</td>\n      <td>-11.625000</td>\n    </tr>\n    <tr>\n      <th>3</th>\n      <td>2013</td>\n      <td>1</td>\n      <td>1</td>\n      <td>544.0</td>\n      <td>545</td>\n      <td>-1.0</td>\n      <td>1004.0</td>\n      <td>1022</td>\n      <td>-18.0</td>\n      <td>B6</td>\n      <td>...</td>\n      <td>JFK</td>\n      <td>BQN</td>\n      <td>183.0</td>\n      <td>1576</td>\n      <td>5</td>\n      <td>45</td>\n      <td>2013-01-01 05:00:00</td>\n      <td>17.0</td>\n      <td>3.050000</td>\n      <td>5.573770</td>\n    </tr>\n    <tr>\n      <th>4</th>\n      <td>2013</td>\n      <td>1</td>\n      <td>1</td>\n      <td>554.0</td>\n      <td>600</td>\n      <td>-6.0</td>\n      <td>812.0</td>\n      <td>837</td>\n      <td>-25.0</td>\n      <td>DL</td>\n      <td>...</td>\n      <td>LGA</td>\n      <td>ATL</td>\n      <td>116.0</td>\n      <td>762</td>\n      <td>6</td>\n      <td>0</td>\n      <td>2013-01-01 06:00:00</td>\n      <td>19.0</td>\n      <td>1.933333</td>\n      <td>9.827586</td>\n    </tr>\n  </tbody>\n</table>\n<p>5 rows × 22 columns</p>\n</div>"
     },
     "execution_count": 26,
     "metadata": {},
     "output_type": "execute_result"
    }
   ],
   "source": [
    "import matplotlib.pyplot as plt\n",
    "import seaborn as sns\n",
    "\n",
    "# Create a histogram for the 'gain' column\n",
    "plt.figure(figsize=(10, 6))\n",
    "sns.histplot(flights['gain'], bins=20, color='blue', edgecolor='white')\n",
    "plt.xlabel('Gain')\n",
    "plt.ylabel('Frequency')\n",
    "plt.title('Histogram of Gain')\n",
    "plt.grid(True)\n",
    "plt.show()\n",
    "\n",
    "# Update the flights dataframe with new columns 'hours' and 'gain_per_hour'\n",
    "flights['hours'] = flights['air_time'] / 60\n",
    "flights['gain_per_hour'] = flights['gain'] / flights['hours']\n",
    "\n",
    "flights.head()"
   ],
   "metadata": {
    "collapsed": false,
    "ExecuteTime": {
     "end_time": "2023-11-19T15:37:08.811560Z",
     "start_time": "2023-11-19T15:37:07.572446Z"
    }
   },
   "id": "fbe518d2204c6289"
  },
  {
   "cell_type": "code",
   "execution_count": 27,
   "outputs": [
    {
     "name": "stdout",
     "output_type": "stream",
     "text": [
      "  dest  num_flights\n",
      "0  ABQ          254\n",
      "1  ACK          265\n",
      "2  ALB          439\n",
      "3  ANC            8\n",
      "4  ATL        17215\n"
     ]
    },
    {
     "data": {
      "text/plain": "   dest  num_flights\n50  LEX            1\n51  LGA            1\n3   ANC            8\n87  SBN           10\n39  HDN           15",
      "text/html": "<div>\n<style scoped>\n    .dataframe tbody tr th:only-of-type {\n        vertical-align: middle;\n    }\n\n    .dataframe tbody tr th {\n        vertical-align: top;\n    }\n\n    .dataframe thead th {\n        text-align: right;\n    }\n</style>\n<table border=\"1\" class=\"dataframe\">\n  <thead>\n    <tr style=\"text-align: right;\">\n      <th></th>\n      <th>dest</th>\n      <th>num_flights</th>\n    </tr>\n  </thead>\n  <tbody>\n    <tr>\n      <th>50</th>\n      <td>LEX</td>\n      <td>1</td>\n    </tr>\n    <tr>\n      <th>51</th>\n      <td>LGA</td>\n      <td>1</td>\n    </tr>\n    <tr>\n      <th>3</th>\n      <td>ANC</td>\n      <td>8</td>\n    </tr>\n    <tr>\n      <th>87</th>\n      <td>SBN</td>\n      <td>10</td>\n    </tr>\n    <tr>\n      <th>39</th>\n      <td>HDN</td>\n      <td>15</td>\n    </tr>\n  </tbody>\n</table>\n</div>"
     },
     "execution_count": 27,
     "metadata": {},
     "output_type": "execute_result"
    }
   ],
   "source": [
    "# Group by 'dest' and count the number of flights\n",
    "freq_dest = flights.groupby('dest').size().reset_index(name='num_flights')\n",
    "\n",
    "# Display the first few rows of freq_dest for review\n",
    "print(freq_dest.head())\n",
    "freq_dest.sort_values(by='num_flights').head()"
   ],
   "metadata": {
    "collapsed": false,
    "ExecuteTime": {
     "end_time": "2023-11-19T15:41:26.192277Z",
     "start_time": "2023-11-19T15:41:26.123403Z"
    }
   },
   "id": "8e615db864e8ab09"
  },
  {
   "cell_type": "code",
   "execution_count": 28,
   "outputs": [
    {
     "data": {
      "text/plain": "   dest  num_flights\n69  ORD        17283\n4   ATL        17215\n49  LAX        16174\n11  BOS        15508\n54  MCO        14082",
      "text/html": "<div>\n<style scoped>\n    .dataframe tbody tr th:only-of-type {\n        vertical-align: middle;\n    }\n\n    .dataframe tbody tr th {\n        vertical-align: top;\n    }\n\n    .dataframe thead th {\n        text-align: right;\n    }\n</style>\n<table border=\"1\" class=\"dataframe\">\n  <thead>\n    <tr style=\"text-align: right;\">\n      <th></th>\n      <th>dest</th>\n      <th>num_flights</th>\n    </tr>\n  </thead>\n  <tbody>\n    <tr>\n      <th>69</th>\n      <td>ORD</td>\n      <td>17283</td>\n    </tr>\n    <tr>\n      <th>4</th>\n      <td>ATL</td>\n      <td>17215</td>\n    </tr>\n    <tr>\n      <th>49</th>\n      <td>LAX</td>\n      <td>16174</td>\n    </tr>\n    <tr>\n      <th>11</th>\n      <td>BOS</td>\n      <td>15508</td>\n    </tr>\n    <tr>\n      <th>54</th>\n      <td>MCO</td>\n      <td>14082</td>\n    </tr>\n  </tbody>\n</table>\n</div>"
     },
     "execution_count": 28,
     "metadata": {},
     "output_type": "execute_result"
    }
   ],
   "source": [
    "# Sort freq_dest by num_flights in descending order\n",
    "sorted_freq_dest = freq_dest.sort_values(by='num_flights', ascending=False)\n",
    "\n",
    "sorted_freq_dest.head()"
   ],
   "metadata": {
    "collapsed": false,
    "ExecuteTime": {
     "end_time": "2023-11-19T15:42:29.979710Z",
     "start_time": "2023-11-19T15:42:29.937387Z"
    }
   },
   "id": "f1824ea72723365d"
  },
  {
   "cell_type": "code",
   "execution_count": 29,
   "outputs": [
    {
     "data": {
      "text/plain": "   year  month  day  dep_time  sched_dep_time  dep_delay  arr_time  \\\n0  2013      1    1     517.0             515        2.0     830.0   \n1  2013      1    1     533.0             529        4.0     850.0   \n2  2013      1    1     623.0             627       -4.0     933.0   \n3  2013      1    1     728.0             732       -4.0    1041.0   \n4  2013      1    1     739.0             739        0.0    1104.0   \n\n   sched_arr_time  arr_delay carrier  ...     hours gain_per_hour  faa  \\\n0             819       11.0      UA  ...  3.783333     -2.378855  IAH   \n1             830       20.0      UA  ...  3.783333     -4.229075  IAH   \n2             932        1.0      UA  ...  3.816667     -1.310044  IAH   \n3            1038        3.0      UA  ...  3.966667     -1.764706  IAH   \n4            1038       26.0      UA  ...  4.150000     -6.265060  IAH   \n\n                           name        lat        lon  alt  tz dst  \\\n0  George Bush Intercontinental  29.984433 -95.341442   97  -6   A   \n1  George Bush Intercontinental  29.984433 -95.341442   97  -6   A   \n2  George Bush Intercontinental  29.984433 -95.341442   97  -6   A   \n3  George Bush Intercontinental  29.984433 -95.341442   97  -6   A   \n4  George Bush Intercontinental  29.984433 -95.341442   97  -6   A   \n\n             tzone  \n0  America/Chicago  \n1  America/Chicago  \n2  America/Chicago  \n3  America/Chicago  \n4  America/Chicago  \n\n[5 rows x 30 columns]",
      "text/html": "<div>\n<style scoped>\n    .dataframe tbody tr th:only-of-type {\n        vertical-align: middle;\n    }\n\n    .dataframe tbody tr th {\n        vertical-align: top;\n    }\n\n    .dataframe thead th {\n        text-align: right;\n    }\n</style>\n<table border=\"1\" class=\"dataframe\">\n  <thead>\n    <tr style=\"text-align: right;\">\n      <th></th>\n      <th>year</th>\n      <th>month</th>\n      <th>day</th>\n      <th>dep_time</th>\n      <th>sched_dep_time</th>\n      <th>dep_delay</th>\n      <th>arr_time</th>\n      <th>sched_arr_time</th>\n      <th>arr_delay</th>\n      <th>carrier</th>\n      <th>...</th>\n      <th>hours</th>\n      <th>gain_per_hour</th>\n      <th>faa</th>\n      <th>name</th>\n      <th>lat</th>\n      <th>lon</th>\n      <th>alt</th>\n      <th>tz</th>\n      <th>dst</th>\n      <th>tzone</th>\n    </tr>\n  </thead>\n  <tbody>\n    <tr>\n      <th>0</th>\n      <td>2013</td>\n      <td>1</td>\n      <td>1</td>\n      <td>517.0</td>\n      <td>515</td>\n      <td>2.0</td>\n      <td>830.0</td>\n      <td>819</td>\n      <td>11.0</td>\n      <td>UA</td>\n      <td>...</td>\n      <td>3.783333</td>\n      <td>-2.378855</td>\n      <td>IAH</td>\n      <td>George Bush Intercontinental</td>\n      <td>29.984433</td>\n      <td>-95.341442</td>\n      <td>97</td>\n      <td>-6</td>\n      <td>A</td>\n      <td>America/Chicago</td>\n    </tr>\n    <tr>\n      <th>1</th>\n      <td>2013</td>\n      <td>1</td>\n      <td>1</td>\n      <td>533.0</td>\n      <td>529</td>\n      <td>4.0</td>\n      <td>850.0</td>\n      <td>830</td>\n      <td>20.0</td>\n      <td>UA</td>\n      <td>...</td>\n      <td>3.783333</td>\n      <td>-4.229075</td>\n      <td>IAH</td>\n      <td>George Bush Intercontinental</td>\n      <td>29.984433</td>\n      <td>-95.341442</td>\n      <td>97</td>\n      <td>-6</td>\n      <td>A</td>\n      <td>America/Chicago</td>\n    </tr>\n    <tr>\n      <th>2</th>\n      <td>2013</td>\n      <td>1</td>\n      <td>1</td>\n      <td>623.0</td>\n      <td>627</td>\n      <td>-4.0</td>\n      <td>933.0</td>\n      <td>932</td>\n      <td>1.0</td>\n      <td>UA</td>\n      <td>...</td>\n      <td>3.816667</td>\n      <td>-1.310044</td>\n      <td>IAH</td>\n      <td>George Bush Intercontinental</td>\n      <td>29.984433</td>\n      <td>-95.341442</td>\n      <td>97</td>\n      <td>-6</td>\n      <td>A</td>\n      <td>America/Chicago</td>\n    </tr>\n    <tr>\n      <th>3</th>\n      <td>2013</td>\n      <td>1</td>\n      <td>1</td>\n      <td>728.0</td>\n      <td>732</td>\n      <td>-4.0</td>\n      <td>1041.0</td>\n      <td>1038</td>\n      <td>3.0</td>\n      <td>UA</td>\n      <td>...</td>\n      <td>3.966667</td>\n      <td>-1.764706</td>\n      <td>IAH</td>\n      <td>George Bush Intercontinental</td>\n      <td>29.984433</td>\n      <td>-95.341442</td>\n      <td>97</td>\n      <td>-6</td>\n      <td>A</td>\n      <td>America/Chicago</td>\n    </tr>\n    <tr>\n      <th>4</th>\n      <td>2013</td>\n      <td>1</td>\n      <td>1</td>\n      <td>739.0</td>\n      <td>739</td>\n      <td>0.0</td>\n      <td>1104.0</td>\n      <td>1038</td>\n      <td>26.0</td>\n      <td>UA</td>\n      <td>...</td>\n      <td>4.150000</td>\n      <td>-6.265060</td>\n      <td>IAH</td>\n      <td>George Bush Intercontinental</td>\n      <td>29.984433</td>\n      <td>-95.341442</td>\n      <td>97</td>\n      <td>-6</td>\n      <td>A</td>\n      <td>America/Chicago</td>\n    </tr>\n  </tbody>\n</table>\n<p>5 rows × 30 columns</p>\n</div>"
     },
     "execution_count": 29,
     "metadata": {},
     "output_type": "execute_result"
    }
   ],
   "source": [
    "airports = pd.read_csv('data/airports.csv')\n",
    "\n",
    "flights_with_airport_names = pd.merge(flights, airports, left_on='dest', right_on='faa')\n",
    "flights_with_airport_names.head()"
   ],
   "metadata": {
    "collapsed": false,
    "ExecuteTime": {
     "end_time": "2023-11-19T15:47:15.264400Z",
     "start_time": "2023-11-19T15:47:14.660069Z"
    }
   },
   "id": "ff6fb353c18b01f5"
  },
  {
   "cell_type": "code",
   "execution_count": 30,
   "outputs": [
    {
     "data": {
      "text/plain": "  dest  num_flights  faa                        airport_name        lat  \\\n0  ORD        17283  ORD                  Chicago Ohare Intl  41.978603   \n1  ATL        17215  ATL     Hartsfield Jackson Atlanta Intl  33.636719   \n2  LAX        16174  LAX                    Los Angeles Intl  33.942536   \n3  BOS        15508  BOS  General Edward Lawrence Logan Intl  42.364347   \n4  MCO        14082  MCO                        Orlando Intl  28.429394   \n\n          lon   alt  tz dst                tzone  \n0  -87.904842   668  -6   A      America/Chicago  \n1  -84.428067  1026  -5   A     America/New_York  \n2 -118.408075   126  -8   A  America/Los_Angeles  \n3  -71.005181    19  -5   A     America/New_York  \n4  -81.308994    96  -5   A     America/New_York  ",
      "text/html": "<div>\n<style scoped>\n    .dataframe tbody tr th:only-of-type {\n        vertical-align: middle;\n    }\n\n    .dataframe tbody tr th {\n        vertical-align: top;\n    }\n\n    .dataframe thead th {\n        text-align: right;\n    }\n</style>\n<table border=\"1\" class=\"dataframe\">\n  <thead>\n    <tr style=\"text-align: right;\">\n      <th></th>\n      <th>dest</th>\n      <th>num_flights</th>\n      <th>faa</th>\n      <th>airport_name</th>\n      <th>lat</th>\n      <th>lon</th>\n      <th>alt</th>\n      <th>tz</th>\n      <th>dst</th>\n      <th>tzone</th>\n    </tr>\n  </thead>\n  <tbody>\n    <tr>\n      <th>0</th>\n      <td>ORD</td>\n      <td>17283</td>\n      <td>ORD</td>\n      <td>Chicago Ohare Intl</td>\n      <td>41.978603</td>\n      <td>-87.904842</td>\n      <td>668</td>\n      <td>-6</td>\n      <td>A</td>\n      <td>America/Chicago</td>\n    </tr>\n    <tr>\n      <th>1</th>\n      <td>ATL</td>\n      <td>17215</td>\n      <td>ATL</td>\n      <td>Hartsfield Jackson Atlanta Intl</td>\n      <td>33.636719</td>\n      <td>-84.428067</td>\n      <td>1026</td>\n      <td>-5</td>\n      <td>A</td>\n      <td>America/New_York</td>\n    </tr>\n    <tr>\n      <th>2</th>\n      <td>LAX</td>\n      <td>16174</td>\n      <td>LAX</td>\n      <td>Los Angeles Intl</td>\n      <td>33.942536</td>\n      <td>-118.408075</td>\n      <td>126</td>\n      <td>-8</td>\n      <td>A</td>\n      <td>America/Los_Angeles</td>\n    </tr>\n    <tr>\n      <th>3</th>\n      <td>BOS</td>\n      <td>15508</td>\n      <td>BOS</td>\n      <td>General Edward Lawrence Logan Intl</td>\n      <td>42.364347</td>\n      <td>-71.005181</td>\n      <td>19</td>\n      <td>-5</td>\n      <td>A</td>\n      <td>America/New_York</td>\n    </tr>\n    <tr>\n      <th>4</th>\n      <td>MCO</td>\n      <td>14082</td>\n      <td>MCO</td>\n      <td>Orlando Intl</td>\n      <td>28.429394</td>\n      <td>-81.308994</td>\n      <td>96</td>\n      <td>-5</td>\n      <td>A</td>\n      <td>America/New_York</td>\n    </tr>\n  </tbody>\n</table>\n</div>"
     },
     "execution_count": 30,
     "metadata": {},
     "output_type": "execute_result"
    }
   ],
   "source": [
    "# Group by 'dest', count the number of flights, sort by count, and join with airports\n",
    "named_dests = flights.groupby('dest').size().reset_index(name='num_flights')\n",
    "named_dests = named_dests.sort_values(by='num_flights', ascending=False)\n",
    "named_dests = pd.merge(named_dests, airports, left_on='dest', right_on='faa')\n",
    "\n",
    "# Rename the 'name' column to 'airport_name'\n",
    "named_dests.rename(columns={'name': 'airport_name'}, inplace=True)\n",
    "\n",
    "named_dests.head()  # Display the first few rows for review"
   ],
   "metadata": {
    "collapsed": false,
    "ExecuteTime": {
     "end_time": "2023-11-19T15:48:24.685411Z",
     "start_time": "2023-11-19T15:48:24.623978Z"
    }
   },
   "id": "4d4fe6680ba5d8d4"
  },
  {
   "cell_type": "code",
   "execution_count": 32,
   "outputs": [
    {
     "name": "stdout",
     "output_type": "stream",
     "text": [
      "<class 'pandas.core.frame.DataFrame'>\n",
      "RangeIndex: 336776 entries, 0 to 336775\n",
      "Data columns (total 22 columns):\n",
      " #   Column          Non-Null Count   Dtype  \n",
      "---  ------          --------------   -----  \n",
      " 0   year            336776 non-null  int64  \n",
      " 1   month           336776 non-null  int64  \n",
      " 2   day             336776 non-null  int64  \n",
      " 3   dep_time        328521 non-null  float64\n",
      " 4   sched_dep_time  336776 non-null  int64  \n",
      " 5   dep_delay       328521 non-null  float64\n",
      " 6   arr_time        328063 non-null  float64\n",
      " 7   sched_arr_time  336776 non-null  int64  \n",
      " 8   arr_delay       327346 non-null  float64\n",
      " 9   carrier         336776 non-null  object \n",
      " 10  flight          336776 non-null  int64  \n",
      " 11  tailnum         334264 non-null  object \n",
      " 12  origin          336776 non-null  object \n",
      " 13  dest            336776 non-null  object \n",
      " 14  air_time        327346 non-null  float64\n",
      " 15  distance        336776 non-null  int64  \n",
      " 16  hour            336776 non-null  int64  \n",
      " 17  minute          336776 non-null  int64  \n",
      " 18  time_hour       336776 non-null  object \n",
      " 19  gain            327346 non-null  float64\n",
      " 20  hours           327346 non-null  float64\n",
      " 21  gain_per_hour   327346 non-null  float64\n",
      "dtypes: float64(8), int64(9), object(5)\n",
      "memory usage: 56.5+ MB\n",
      "        arr_time  arr_delay  air_time\n",
      "0          830.0       11.0     227.0\n",
      "1          850.0       20.0     227.0\n",
      "2          923.0       33.0     160.0\n",
      "3         1004.0      -18.0     183.0\n",
      "4          812.0      -25.0     116.0\n",
      "...          ...        ...       ...\n",
      "336771       NaN        NaN       NaN\n",
      "336772       NaN        NaN       NaN\n",
      "336773       NaN        NaN       NaN\n",
      "336774       NaN        NaN       NaN\n",
      "336775       NaN        NaN       NaN\n",
      "\n",
      "[336776 rows x 3 columns]\n",
      "        dep_delay  arr_delay\n",
      "0             2.0       11.0\n",
      "1             4.0       20.0\n",
      "2             2.0       33.0\n",
      "3            -1.0      -18.0\n",
      "4            -6.0      -25.0\n",
      "...           ...        ...\n",
      "336771        NaN        NaN\n",
      "336772        NaN        NaN\n",
      "336773        NaN        NaN\n",
      "336774        NaN        NaN\n",
      "336775        NaN        NaN\n",
      "\n",
      "[336776 rows x 2 columns]\n",
      "        dep_time  sched_dep_time  arr_time  sched_arr_time  air_time  \\\n",
      "0          517.0             515     830.0             819     227.0   \n",
      "1          533.0             529     850.0             830     227.0   \n",
      "2          542.0             540     923.0             850     160.0   \n",
      "3          544.0             545    1004.0            1022     183.0   \n",
      "4          554.0             600     812.0             837     116.0   \n",
      "...          ...             ...       ...             ...       ...   \n",
      "336771       NaN            1455       NaN            1634       NaN   \n",
      "336772       NaN            2200       NaN            2312       NaN   \n",
      "336773       NaN            1210       NaN            1330       NaN   \n",
      "336774       NaN            1159       NaN            1344       NaN   \n",
      "336775       NaN             840       NaN            1020       NaN   \n",
      "\n",
      "                  time_hour  \n",
      "0       2013-01-01 05:00:00  \n",
      "1       2013-01-01 05:00:00  \n",
      "2       2013-01-01 05:00:00  \n",
      "3       2013-01-01 05:00:00  \n",
      "4       2013-01-01 06:00:00  \n",
      "...                     ...  \n",
      "336771  2013-09-30 14:00:00  \n",
      "336772  2013-09-30 22:00:00  \n",
      "336773  2013-09-30 12:00:00  \n",
      "336774  2013-09-30 11:00:00  \n",
      "336775  2013-09-30 08:00:00  \n",
      "\n",
      "[336776 rows x 6 columns]\n",
      "<class 'pandas.core.frame.DataFrame'>\n",
      "RangeIndex: 336776 entries, 0 to 336775\n",
      "Data columns (total 22 columns):\n",
      " #   Column          Non-Null Count   Dtype  \n",
      "---  ------          --------------   -----  \n",
      " 0   year            336776 non-null  int64  \n",
      " 1   month           336776 non-null  int64  \n",
      " 2   day             336776 non-null  int64  \n",
      " 3   dep_time        328521 non-null  float64\n",
      " 4   sched_dep_time  336776 non-null  int64  \n",
      " 5   dep_delay       328521 non-null  float64\n",
      " 6   arr_time        328063 non-null  float64\n",
      " 7   sched_arr_time  336776 non-null  int64  \n",
      " 8   arr_delay       327346 non-null  float64\n",
      " 9   carrier         336776 non-null  object \n",
      " 10  flight          336776 non-null  int64  \n",
      " 11  tailnum         334264 non-null  object \n",
      " 12  origin          336776 non-null  object \n",
      " 13  dest            336776 non-null  object \n",
      " 14  air_time        327346 non-null  float64\n",
      " 15  distance        336776 non-null  int64  \n",
      " 16  hour            336776 non-null  int64  \n",
      " 17  minute          336776 non-null  int64  \n",
      " 18  time_hour       336776 non-null  object \n",
      " 19  gain            327346 non-null  float64\n",
      " 20  hours           327346 non-null  float64\n",
      " 21  gain_per_hour   327346 non-null  float64\n",
      "dtypes: float64(8), int64(9), object(5)\n",
      "memory usage: 56.5+ MB\n"
     ]
    }
   ],
   "source": [
    "flights_weather_joined = pd.merge(flights, weather, on=['year', 'month', 'day', 'hour', 'origin'])\n",
    "\n",
    "# 2. Join flights with airlines data (assuming airlines data is loaded)\n",
    "# airlines = pd.read_csv('/path/to/airlines.csv')  # Uncomment and set path to airlines data if available\n",
    "# joined_flights = pd.merge(flights, airlines, on='carrier')\n",
    "\n",
    "# 3. Glimpse of flights dataframe\n",
    "glimpse_flights = flights.info()\n",
    "\n",
    "# 4. Select 'carrier' and 'flight' from flights\n",
    "selected_flights = flights[['carrier', 'flight']]\n",
    "\n",
    "# 5. Remove 'year' column from flights\n",
    "flights_no_year = flights.drop(columns=['year'])\n",
    "\n",
    "# 6. Select certain columns for flight arrival times\n",
    "flight_arr_times = flights[['month', 'day', 'arr_time', 'sched_arr_time']]\n",
    "\n",
    "# 7. Reorder columns in flights\n",
    "columns_order = ['year', 'month', 'day', 'hour', 'minute', 'time_hour'] + [col for col in flights.columns if col not in ['year', 'month', 'day', 'hour', 'minute', 'time_hour']]\n",
    "flights_reorder = flights[columns_order]\n",
    "\n",
    "# 8. Select columns starting with 'a'\n",
    "flights_start_a = flights.filter(regex='^a')\n",
    "print(flights_start_a)\n",
    "\n",
    "# 9. Select columns ending with 'delay'\n",
    "flights_end_delay = flights.filter(regex='delay$')\n",
    "print(flights_end_delay)\n",
    "\n",
    "# 10. Select columns containing 'time'\n",
    "flights_contains_time = flights.filter(regex='time')\n",
    "print(flights_contains_time)\n",
    "\n",
    "# 11. Rename 'dep_time' and 'arr_time'\n",
    "flights_time_new = flights[['dep_time', 'arr_time']].rename(columns={'dep_time': 'departure_time', 'arr_time': 'arrival_time'})\n",
    "\n",
    "# 12. Top 10 destinations by number of flights\n",
    "top_10_named_dests = named_dests.nlargest(10, 'num_flights')\n",
    "\n",
    "# Perform a glimpse on one of the dataframes as an example\n",
    "flights.info()  # Glimpse of the flights dataframe"
   ],
   "metadata": {
    "collapsed": false,
    "ExecuteTime": {
     "end_time": "2023-11-19T15:52:53.880595Z",
     "start_time": "2023-11-19T15:52:51.702913Z"
    }
   },
   "id": "314a34017fb82ad1"
  },
  {
   "cell_type": "code",
   "execution_count": null,
   "outputs": [],
   "source": [],
   "metadata": {
    "collapsed": false
   },
   "id": "2f6d6fa740dba718"
  }
 ],
 "metadata": {
  "kernelspec": {
   "display_name": "Python 3",
   "language": "python",
   "name": "python3"
  },
  "language_info": {
   "codemirror_mode": {
    "name": "ipython",
    "version": 2
   },
   "file_extension": ".py",
   "mimetype": "text/x-python",
   "name": "python",
   "nbconvert_exporter": "python",
   "pygments_lexer": "ipython2",
   "version": "2.7.6"
  }
 },
 "nbformat": 4,
 "nbformat_minor": 5
}
